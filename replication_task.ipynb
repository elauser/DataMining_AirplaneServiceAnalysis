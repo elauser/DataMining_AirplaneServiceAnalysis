{
 "cells": [
  {
   "cell_type": "markdown",
   "metadata": {},
   "source": [
    "# The Proceedure short description\n",
    "\n",
    "Missing Data was replaced using median imputation.\n",
    "The text was cleaned of stop words and numbers, then the sentiment and emotion scores was mined through a lexicon based approach (NRC Word-Emotion Association Lexicon). The results were compared to an expert sampling which proved the correlation of both approaches.\n",
    "Attribute specific sentiments were mined through extracting all the through Ripple Down Rules-based Part-Of-Speech Tagging (RDRPOS) identified nouns which occurred in at least 5% of the dataset. The resulting 116 Nouns were put into “Bag of Words” created by 3 experts and 10 users of online reviews and airlines to identify the service attributes.\n",
    "Each sentence containing a word in a service attribute was matched with its sentiment score to create the final dataset.\n"
   ]
  },
  {
   "cell_type": "markdown",
   "metadata": {},
   "source": [
    "## Feature Selection\n",
    "\"content\",\"cabin_flown\",\"overall_rating\",\"seat_comfort_rating\",\"cabin_staff_rating\",\"food_beverages_rating\",\"inflight_entertainment_rating\",\"value_money_rating\",\"recommended\""
   ]
  },
  {
   "cell_type": "code",
   "execution_count": 15,
   "metadata": {},
   "outputs": [],
   "source": [
    "import pandas as pd\n",
    "\n",
    "df = pd.read_csv(\"airline_mean.csv\", encoding='latin1')\n",
    "df = df.iloc[:, 7:]\n",
    "df = df.drop(columns=['aircraft', 'type_traveller'])"
   ]
  },
  {
   "cell_type": "markdown",
   "metadata": {},
   "source": [
    "## Sentiment Analysis\n",
    "With NRC Word-Emotion Association Lexicon (also called EmoLex)"
   ]
  },
  {
   "cell_type": "code",
   "execution_count": 19,
   "metadata": {},
   "outputs": [
    {
     "name": "stdout",
     "output_type": "stream",
     "text": [
      "                                                 content     cabin_flown  \\\n",
      "0      Outbound flight FRA/PRN A319. 2 hours 10 min f...         Economy   \n",
      "1      Two short hops ZRH-LJU and LJU-VIE. Very fast ...  Business Class   \n",
      "2      Flew Zurich-Ljubljana on JP365 newish CRJ900. ...         Economy   \n",
      "3      Adria serves this 100 min flight from Ljubljan...  Business Class   \n",
      "4      WAW-SKJ Economy. No free snacks or drinks on t...         Economy   \n",
      "...                                                  ...             ...   \n",
      "41391  This airline is terrible! Timetable changes (m...         Economy   \n",
      "41392  We often fly with Wizzair to/from Charleroi/Bu...         Economy   \n",
      "41393  Avoid Wizzair! A group of us had our outgoing ...         Economy   \n",
      "41394  PRG-LTN and LTN-PRG were rather good flights. ...         Economy   \n",
      "41395  London - Kiev. First problem started a few wee...         Economy   \n",
      "\n",
      "       overall_rating  seat_comfort_rating  cabin_staff_rating  \\\n",
      "0                   7                    4                   4   \n",
      "1                  10                    4                   5   \n",
      "2                   9                    5                   5   \n",
      "3                   8                    4                   4   \n",
      "4                   4                    4                   2   \n",
      "...               ...                  ...                 ...   \n",
      "41391               7                    3                   4   \n",
      "41392               8                    3                   4   \n",
      "41393               7                    3                   4   \n",
      "41394               5                    3                   4   \n",
      "41395               1                    3                   4   \n",
      "\n",
      "       food_beverages_rating  inflight_entertainment_rating  \\\n",
      "0                          4                              2   \n",
      "1                          4                              1   \n",
      "2                          4                              2   \n",
      "3                          3                              1   \n",
      "4                          1                              2   \n",
      "...                      ...                            ...   \n",
      "41391                      3                              2   \n",
      "41392                      3                              2   \n",
      "41393                      3                              2   \n",
      "41394                      3                              2   \n",
      "41395                      3                              2   \n",
      "\n",
      "       value_money_rating  recommended      fear     anger   anticip  \\\n",
      "0                       4            1  0.101604  0.101604  0.122995   \n",
      "1                       5            1  0.102564  0.102564  0.089744   \n",
      "2                       5            1  0.090226  0.075188  0.090226   \n",
      "3                       4            1  0.093023  0.093023  0.087209   \n",
      "4                       2            0  0.098266  0.089595  0.092486   \n",
      "...                   ...          ...       ...       ...       ...   \n",
      "41391                   1            0  0.083333  0.083333  0.093750   \n",
      "41392                   4            1  0.099010  0.089109  0.099010   \n",
      "41393                   1            0  0.082759  0.082759  0.110345   \n",
      "41394                   4            1  0.088889  0.088889  0.096296   \n",
      "41395                   1            0  0.089069  0.089069  0.101215   \n",
      "\n",
      "          trust  surprise  positive  negative   sadness   disgust       joy  \n",
      "0      0.096257  0.090909  0.096257  0.101604  0.101604  0.096257  0.090909  \n",
      "1      0.102564  0.102564  0.115385  0.102564  0.089744  0.089744  0.102564  \n",
      "2      0.120301  0.082707  0.127820  0.120301  0.105263  0.090226  0.097744  \n",
      "3      0.133721  0.087209  0.133721  0.104651  0.087209  0.087209  0.093023  \n",
      "4      0.118497  0.095376  0.118497  0.106936  0.095376  0.089595  0.095376  \n",
      "...         ...       ...       ...       ...       ...       ...       ...  \n",
      "41391  0.114583  0.093750  0.125000  0.114583  0.104167  0.093750  0.093750  \n",
      "41392  0.113861  0.099010  0.113861  0.103960  0.094059  0.089109  0.099010  \n",
      "41393  0.124138  0.089655  0.124138  0.103448  0.089655  0.089655  0.103448  \n",
      "41394  0.125926  0.088889  0.111111  0.103704  0.096296  0.103704  0.096296  \n",
      "41395  0.113360  0.089069  0.113360  0.109312  0.101215  0.093117  0.101215  \n",
      "\n",
      "[41396 rows x 19 columns]\n"
     ]
    },
    {
     "data": {
      "text/plain": [
       "'\\n#Return words list.\\n\\ntext_object.words\\n\\n#Return sentences list.\\n\\ntext_object.sentences\\n\\n#Return affect list.\\n\\ntext_object.affect_list\\n\\n#Return affect dictionary.\\n\\ntext_object.affect_dict\\n\\n#Return raw emotional counts.\\n\\ntext_object.raw_emotion_scores\\n\\n#Return highest emotions.\\n\\ntext_object.top_emotions\\n\\n#Return affect frequencies.\\n\\ntext_object.affect_frequencies\\n'"
      ]
     },
     "execution_count": 19,
     "metadata": {},
     "output_type": "execute_result"
    }
   ],
   "source": [
    "from nrclex import NRCLex\n",
    "\n",
    "df = df.merge(df.content.apply(lambda s: pd.Series(NRCLex(s).affect_frequencies)), \n",
    "    left_index=True, right_index=True)"
   ]
  },
  {
   "cell_type": "markdown",
   "metadata": {},
   "source": [
    "### Overall Sentiment\n",
    "= positive - negative / positive + negative"
   ]
  },
  {
   "cell_type": "code",
   "execution_count": 20,
   "metadata": {},
   "outputs": [],
   "source": [
    "df['overall_sentiment'] = (df.positive - df.negative)/(df.positive + df.negative)"
   ]
  },
  {
   "cell_type": "markdown",
   "metadata": {},
   "source": [
    "## Bag of Words to find service attributes"
   ]
  },
  {
   "cell_type": "code",
   "execution_count": 35,
   "metadata": {},
   "outputs": [],
   "source": [
    "services = {}\n",
    "services['punctuality_sm'] = ['time', 'hour', 'boarding', 'minutes', 'delay', 'day' 'arrival','departure']\n",
    "services['food_bev_sm'] = 'Food, meal, drinks, water, breakfast'.lower().split(', ')\n",
    "services['comfort_sm'] = 'Seat, cabin, leg, lounge, room, legroom, seating, row, landing, sleep, space'.lower().split(', ')\n",
    "services['staff_bh_sm'] = 'Crew, staff, attendants, people, ground'.lower().split(', ')\n",
    "services['inflight_ent_sm'] = 'Entertainment, experience, inflight, movies'.lower().split(', ')\n",
    "services['checkin_sm'] = 'Check in, luggage, board, baggage'.lower().split(', ')"
   ]
  },
  {
   "cell_type": "markdown",
   "metadata": {},
   "source": [
    "### Feature Engineering\n",
    "We go through each review, split it into its composing sentences and see if it contains words from the services defined previously. We combine the sentences by averaging the sentiment scores for each category and in the end fill the missing values with the mean."
   ]
  },
  {
   "cell_type": "code",
   "execution_count": 47,
   "metadata": {},
   "outputs": [
    {
     "name": "stdout",
     "output_type": "stream",
     "text": [
      "                                                 content     cabin_flown  \\\n",
      "0      Outbound flight FRA/PRN A319. 2 hours 10 min f...         Economy   \n",
      "1      Two short hops ZRH-LJU and LJU-VIE. Very fast ...  Business Class   \n",
      "2      Flew Zurich-Ljubljana on JP365 newish CRJ900. ...         Economy   \n",
      "3      Adria serves this 100 min flight from Ljubljan...  Business Class   \n",
      "4      WAW-SKJ Economy. No free snacks or drinks on t...         Economy   \n",
      "...                                                  ...             ...   \n",
      "41391  This airline is terrible! Timetable changes (m...         Economy   \n",
      "41392  We often fly with Wizzair to/from Charleroi/Bu...         Economy   \n",
      "41393  Avoid Wizzair! A group of us had our outgoing ...         Economy   \n",
      "41394  PRG-LTN and LTN-PRG were rather good flights. ...         Economy   \n",
      "41395  London - Kiev. First problem started a few wee...         Economy   \n",
      "\n",
      "       overall_rating  seat_comfort_rating  cabin_staff_rating  \\\n",
      "0                   7                    4                   4   \n",
      "1                  10                    4                   5   \n",
      "2                   9                    5                   5   \n",
      "3                   8                    4                   4   \n",
      "4                   4                    4                   2   \n",
      "...               ...                  ...                 ...   \n",
      "41391               7                    3                   4   \n",
      "41392               8                    3                   4   \n",
      "41393               7                    3                   4   \n",
      "41394               5                    3                   4   \n",
      "41395               1                    3                   4   \n",
      "\n",
      "       food_beverages_rating  inflight_entertainment_rating  \\\n",
      "0                          4                              2   \n",
      "1                          4                              1   \n",
      "2                          4                              2   \n",
      "3                          3                              1   \n",
      "4                          1                              2   \n",
      "...                      ...                            ...   \n",
      "41391                      3                              2   \n",
      "41392                      3                              2   \n",
      "41393                      3                              2   \n",
      "41394                      3                              2   \n",
      "41395                      3                              2   \n",
      "\n",
      "       value_money_rating  recommended      fear  ...   sadness   disgust  \\\n",
      "0                       4            1  0.101604  ...  0.101604  0.096257   \n",
      "1                       5            1  0.102564  ...  0.089744  0.089744   \n",
      "2                       5            1  0.090226  ...  0.105263  0.090226   \n",
      "3                       4            1  0.093023  ...  0.087209  0.087209   \n",
      "4                       2            0  0.098266  ...  0.095376  0.089595   \n",
      "...                   ...          ...       ...  ...       ...       ...   \n",
      "41391                   1            0  0.083333  ...  0.104167  0.093750   \n",
      "41392                   4            1  0.099010  ...  0.094059  0.089109   \n",
      "41393                   1            0  0.082759  ...  0.089655  0.089655   \n",
      "41394                   4            1  0.088889  ...  0.096296  0.103704   \n",
      "41395                   1            0  0.089069  ...  0.101215  0.093117   \n",
      "\n",
      "            joy  overall_sentiment  food_bev_sm  punctuality_sm  comfort_sm  \\\n",
      "0      0.090909          -0.027027     0.000000        0.000000    0.000000   \n",
      "1      0.102564           0.058824     0.107043        0.020541    0.000000   \n",
      "2      0.097744           0.030303     0.090909        0.000000    0.048736   \n",
      "3      0.093023           0.121951     0.000000        0.020541    0.058824   \n",
      "4      0.095376           0.051282     0.033333        0.020541    0.048736   \n",
      "...         ...                ...          ...             ...         ...   \n",
      "41391  0.093750           0.043478     0.107043        0.020541    0.048736   \n",
      "41392  0.099010           0.045455     0.107043        0.020541    0.142857   \n",
      "41393  0.103448           0.090909     0.107043        0.020541    0.048736   \n",
      "41394  0.096296           0.034483     0.107043        0.020541    0.000000   \n",
      "41395  0.101215           0.018182     0.000000        0.020541    0.048736   \n",
      "\n",
      "       staff_bh_sm  checkin_sm  inflight_ent_sm  \n",
      "0         0.067703    0.031233          0.09955  \n",
      "1         0.100000    0.031233          0.09955  \n",
      "2         0.067703    0.000000          0.09955  \n",
      "3         0.067703    0.031233          0.09955  \n",
      "4         0.067703    0.031233          0.09955  \n",
      "...            ...         ...              ...  \n",
      "41391     0.076923    0.031233          0.09955  \n",
      "41392     0.142857    0.031233          0.09955  \n",
      "41393     0.067703    0.031233          0.09955  \n",
      "41394     0.067703    0.031233          0.09955  \n",
      "41395     0.000000    0.031233          0.09955  \n",
      "\n",
      "[41396 rows x 26 columns]\n"
     ]
    }
   ],
   "source": [
    "def extract_sentiment_service(text):\n",
    "    service_sentiments = service_osm_list(text)\n",
    "    sm = pd.DataFrame(service_sentiments)\n",
    "    answer = sm.mean()\n",
    "    return answer\n",
    "    \n",
    "def service_osm_list(text):\n",
    "    sentences = NRCLex(text).sentences\n",
    "    sentiments = []\n",
    "    for sentence in sentences:\n",
    "        sentence = str(sentence)\n",
    "        result = {}\n",
    "        osm = overall_sentiment_in_text(sentence)\n",
    "        srvc = services_in_sentence(sentence)\n",
    "        for service in srvc:\n",
    "            result[service] = osm\n",
    "        sentiments.append(result)\n",
    "    return sentiments\n",
    "\n",
    "def overall_sentiment_in_text(text):\n",
    "    sentiment = NRCLex(text).affect_frequencies\n",
    "    try:\n",
    "        overall_sentiment = (sentiment['positive'] - sentiment['negative'])/(sentiment['positive'] + sentiment['negative'])\n",
    "        return overall_sentiment\n",
    "    except ZeroDivisionError:\n",
    "        return 0\n",
    "\n",
    "def services_in_sentence(sentence):\n",
    "    words = sentence.lower().split()\n",
    "    srv = set()\n",
    "    for key, value in services.items():\n",
    "        if any(item in words for item in value):\n",
    "            srv.add(key)\n",
    "    return srv\n",
    "\n",
    "df_final = df.merge(df.content.apply(extract_sentiment_service), \n",
    "    left_index=True, right_index=True)\n",
    "\n",
    "# Missing Fields were filled with the mean\n",
    "df_final = df_final.fillna(df_final.mean())\n",
    "print(df_final)"
   ]
  },
  {
   "cell_type": "code",
   "execution_count": 49,
   "metadata": {},
   "outputs": [],
   "source": [
    "df_final.drop(columns=['content']).to_csv('final_data.csv',index=False)"
   ]
  },
  {
   "cell_type": "code",
   "execution_count": null,
   "metadata": {},
   "outputs": [],
   "source": []
  }
 ],
 "metadata": {
  "kernelspec": {
   "display_name": "Python 3",
   "language": "python",
   "name": "python3"
  }
 },
 "nbformat": 4,
 "nbformat_minor": 4
}
